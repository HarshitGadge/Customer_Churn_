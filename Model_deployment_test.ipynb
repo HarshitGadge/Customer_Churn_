{
 "cells": [
  {
   "cell_type": "code",
   "execution_count": 1,
   "id": "0b7ef235",
   "metadata": {},
   "outputs": [],
   "source": [
    "import json \n",
    "import requests"
   ]
  },
  {
   "cell_type": "code",
   "execution_count": 2,
   "id": "e38afb45",
   "metadata": {},
   "outputs": [],
   "source": [
    "url = 'https://190b-34-86-122-64.ngrok.io/churn_prediction'"
   ]
  },
  {
   "cell_type": "code",
   "execution_count": 6,
   "id": "dc394102",
   "metadata": {},
   "outputs": [],
   "source": [
    "input_for_model={\n",
    "   'Age':20,\n",
    "   'Subscription_Length_Months' : 5,\n",
    "   'Monthly_Bill':73.2,\n",
    "   'Gender_Female':0,\n",
    "   'Gender_Male':1,\n",
    "   'Location_Chicago':1,\n",
    "   'Location_Houston':0,\n",
    "   'Location_Los_Angeles':0,\n",
    "   'Location_Miami':0,\n",
    "   'Location_New_York':0\n",
    "}"
   ]
  },
  {
   "cell_type": "code",
   "execution_count": 7,
   "id": "314a512a",
   "metadata": {},
   "outputs": [],
   "source": [
    "input_json = json.dumps(input_for_model)"
   ]
  },
  {
   "cell_type": "code",
   "execution_count": 8,
   "id": "744228b5",
   "metadata": {},
   "outputs": [
    {
     "name": "stdout",
     "output_type": "stream",
     "text": [
      "\"The person is likely to churn\"\n"
     ]
    }
   ],
   "source": [
    "response = requests.post(url, data= input_json)\n",
    "print(response.text)"
   ]
  },
  {
   "cell_type": "code",
   "execution_count": null,
   "id": "2e26dd23",
   "metadata": {},
   "outputs": [],
   "source": [
    "\n",
    "\n"
   ]
  }
 ],
 "metadata": {
  "kernelspec": {
   "display_name": "Python 3 (ipykernel)",
   "language": "python",
   "name": "python3"
  },
  "language_info": {
   "codemirror_mode": {
    "name": "ipython",
    "version": 3
   },
   "file_extension": ".py",
   "mimetype": "text/x-python",
   "name": "python",
   "nbconvert_exporter": "python",
   "pygments_lexer": "ipython3",
   "version": "3.9.12"
  }
 },
 "nbformat": 4,
 "nbformat_minor": 5
}
